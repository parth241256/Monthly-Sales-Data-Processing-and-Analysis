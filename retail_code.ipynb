{
 "cells": [
  {
   "cell_type": "code",
   "execution_count": 2,
   "metadata": {},
   "outputs": [],
   "source": [
    "import pandas as pd"
   ]
  },
  {
   "cell_type": "code",
   "execution_count": 4,
   "metadata": {},
   "outputs": [],
   "source": [
    "# Correct file path\n",
    "excel_file = \"monthly_sales.xlsx\"\n",
    "\n",
    "# List of sheet names corresponding to the months\n",
    "sheet_names = [\n",
    "    'January', 'February', 'March', 'April', 'May', 'June',\n",
    "    'July', 'August', 'September', 'October', 'November', 'December'\n",
    "]"
   ]
  },
  {
   "cell_type": "code",
   "execution_count": 6,
   "metadata": {},
   "outputs": [
    {
     "name": "stdout",
     "output_type": "stream",
     "text": [
      "Available sheets in the file: ['January', 'February', 'March', 'April', 'June', 'May', 'July', 'August', 'September', 'October', 'November', 'December']\n"
     ]
    }
   ],
   "source": [
    " # Check available sheet names in the Excel file\n",
    "available_sheets = pd.ExcelFile(excel_file).sheet_names\n",
    "print(f\"Available sheets in the file: {available_sheets}\")"
   ]
  },
  {
   "cell_type": "code",
   "execution_count": 8,
   "metadata": {},
   "outputs": [
    {
     "name": "stdout",
     "output_type": "stream",
     "text": [
      "Read 27706 rows from sheet: January\n",
      "Read 26747 rows from sheet: February\n",
      "Read 36748 rows from sheet: March\n",
      "Read 29916 rows from sheet: April\n",
      "Read 37030 rows from sheet: May\n",
      "Read 36874 rows from sheet: June\n",
      "Read 36874 rows from sheet: July\n",
      "Read 36874 rows from sheet: August\n",
      "Read 36874 rows from sheet: September\n",
      "Read 37030 rows from sheet: October\n",
      "Read 36874 rows from sheet: November\n",
      "Read 36874 rows from sheet: December\n"
     ]
    }
   ],
   "source": [
    "#Making a list of dataframes \n",
    "df_list = []\n",
    "for sheet in sheet_names:\n",
    "        df = pd.read_excel(excel_file, sheet_name=sheet)\n",
    "        print(f\"Read {len(df)} rows from sheet: {sheet}\")\n",
    "        df_list.append(df)"
   ]
  },
  {
   "cell_type": "code",
   "execution_count": 10,
   "metadata": {},
   "outputs": [
    {
     "name": "stdout",
     "output_type": "stream",
     "text": [
      "Total rows after concatenation: 416421\n"
     ]
    }
   ],
   "source": [
    "#Concatenating all the dataframes in one dataframe\n",
    "sales_data = pd.concat(df_list)\n",
    "print(f\"Total rows after concatenation: {len(sales_data)}\")"
   ]
  },
  {
   "cell_type": "markdown",
   "metadata": {},
   "source": [
    "DATA CLEANING"
   ]
  },
  {
   "cell_type": "code",
   "execution_count": 13,
   "metadata": {},
   "outputs": [
    {
     "data": {
      "text/html": [
       "<div>\n",
       "<style scoped>\n",
       "    .dataframe tbody tr th:only-of-type {\n",
       "        vertical-align: middle;\n",
       "    }\n",
       "\n",
       "    .dataframe tbody tr th {\n",
       "        vertical-align: top;\n",
       "    }\n",
       "\n",
       "    .dataframe thead th {\n",
       "        text-align: right;\n",
       "    }\n",
       "</style>\n",
       "<table border=\"1\" class=\"dataframe\">\n",
       "  <thead>\n",
       "    <tr style=\"text-align: right;\">\n",
       "      <th></th>\n",
       "      <th>InvoiceDate</th>\n",
       "      <th>Product ID</th>\n",
       "      <th>Product Name</th>\n",
       "      <th>Country</th>\n",
       "      <th>Sales Price</th>\n",
       "      <th>Quantity</th>\n",
       "      <th>UnitPrice</th>\n",
       "      <th>Product Name</th>\n",
       "    </tr>\n",
       "  </thead>\n",
       "  <tbody>\n",
       "    <tr>\n",
       "      <th>0</th>\n",
       "      <td>2011-01-04 10:00:00</td>\n",
       "      <td>1000.0</td>\n",
       "      <td>JUMBO BAG PINK POLKADOT</td>\n",
       "      <td>United Kingdom</td>\n",
       "      <td>1.25</td>\n",
       "      <td>10</td>\n",
       "      <td>NaN</td>\n",
       "      <td>NaN</td>\n",
       "    </tr>\n",
       "    <tr>\n",
       "      <th>1</th>\n",
       "      <td>2011-01-04 10:00:00</td>\n",
       "      <td>1001.0</td>\n",
       "      <td>BLUE POLKADOT WRAP</td>\n",
       "      <td>United Kingdom</td>\n",
       "      <td>1.25</td>\n",
       "      <td>25</td>\n",
       "      <td>NaN</td>\n",
       "      <td>NaN</td>\n",
       "    </tr>\n",
       "    <tr>\n",
       "      <th>2</th>\n",
       "      <td>2011-01-04 10:00:00</td>\n",
       "      <td>1002.0</td>\n",
       "      <td>RED RETROSPOT WRAP</td>\n",
       "      <td>United Kingdom</td>\n",
       "      <td>1.25</td>\n",
       "      <td>25</td>\n",
       "      <td>NaN</td>\n",
       "      <td>NaN</td>\n",
       "    </tr>\n",
       "    <tr>\n",
       "      <th>3</th>\n",
       "      <td>2011-01-04 10:00:00</td>\n",
       "      <td>1003.0</td>\n",
       "      <td>RECYCLING BAG RETROSPOT</td>\n",
       "      <td>United Kingdom</td>\n",
       "      <td>0.42</td>\n",
       "      <td>5</td>\n",
       "      <td>NaN</td>\n",
       "      <td>NaN</td>\n",
       "    </tr>\n",
       "    <tr>\n",
       "      <th>4</th>\n",
       "      <td>2011-01-04 10:00:00</td>\n",
       "      <td>1004.0</td>\n",
       "      <td>RED RETROSPOT SHOPPER BAG</td>\n",
       "      <td>United Kingdom</td>\n",
       "      <td>0.21</td>\n",
       "      <td>10</td>\n",
       "      <td>NaN</td>\n",
       "      <td>NaN</td>\n",
       "    </tr>\n",
       "  </tbody>\n",
       "</table>\n",
       "</div>"
      ],
      "text/plain": [
       "           InvoiceDate  Product ID               Product Name         Country  \\\n",
       "0  2011-01-04 10:00:00      1000.0    JUMBO BAG PINK POLKADOT  United Kingdom   \n",
       "1  2011-01-04 10:00:00      1001.0         BLUE POLKADOT WRAP  United Kingdom   \n",
       "2  2011-01-04 10:00:00      1002.0        RED RETROSPOT WRAP   United Kingdom   \n",
       "3  2011-01-04 10:00:00      1003.0   RECYCLING BAG RETROSPOT   United Kingdom   \n",
       "4  2011-01-04 10:00:00      1004.0  RED RETROSPOT SHOPPER BAG  United Kingdom   \n",
       "\n",
       "   Sales Price Quantity  UnitPrice Product Name   \n",
       "0         1.25       10        NaN           NaN  \n",
       "1         1.25       25        NaN           NaN  \n",
       "2         1.25       25        NaN           NaN  \n",
       "3         0.42        5        NaN           NaN  \n",
       "4         0.21       10        NaN           NaN  "
      ]
     },
     "execution_count": 13,
     "metadata": {},
     "output_type": "execute_result"
    }
   ],
   "source": [
    "sales_data.head()"
   ]
  },
  {
   "cell_type": "code",
   "execution_count": 15,
   "metadata": {},
   "outputs": [],
   "source": [
    "# Dropping unwanted columns \"UnitPrice\" and \"Product Name\" having null values\n",
    "columns_to_drop = ['UnitPrice','Product Name ']\n",
    "sales_data.drop(columns=columns_to_drop, axis=1, inplace=True, errors='ignore')"
   ]
  },
  {
   "cell_type": "code",
   "execution_count": 17,
   "metadata": {},
   "outputs": [
    {
     "data": {
      "text/html": [
       "<div>\n",
       "<style scoped>\n",
       "    .dataframe tbody tr th:only-of-type {\n",
       "        vertical-align: middle;\n",
       "    }\n",
       "\n",
       "    .dataframe tbody tr th {\n",
       "        vertical-align: top;\n",
       "    }\n",
       "\n",
       "    .dataframe thead th {\n",
       "        text-align: right;\n",
       "    }\n",
       "</style>\n",
       "<table border=\"1\" class=\"dataframe\">\n",
       "  <thead>\n",
       "    <tr style=\"text-align: right;\">\n",
       "      <th></th>\n",
       "      <th>InvoiceDate</th>\n",
       "      <th>Product ID</th>\n",
       "      <th>Product Name</th>\n",
       "      <th>Country</th>\n",
       "      <th>Sales Price</th>\n",
       "      <th>Quantity</th>\n",
       "    </tr>\n",
       "  </thead>\n",
       "  <tbody>\n",
       "    <tr>\n",
       "      <th>0</th>\n",
       "      <td>2011-01-04 10:00:00</td>\n",
       "      <td>1000.0</td>\n",
       "      <td>JUMBO BAG PINK POLKADOT</td>\n",
       "      <td>United Kingdom</td>\n",
       "      <td>1.25</td>\n",
       "      <td>10</td>\n",
       "    </tr>\n",
       "    <tr>\n",
       "      <th>1</th>\n",
       "      <td>2011-01-04 10:00:00</td>\n",
       "      <td>1001.0</td>\n",
       "      <td>BLUE POLKADOT WRAP</td>\n",
       "      <td>United Kingdom</td>\n",
       "      <td>1.25</td>\n",
       "      <td>25</td>\n",
       "    </tr>\n",
       "    <tr>\n",
       "      <th>2</th>\n",
       "      <td>2011-01-04 10:00:00</td>\n",
       "      <td>1002.0</td>\n",
       "      <td>RED RETROSPOT WRAP</td>\n",
       "      <td>United Kingdom</td>\n",
       "      <td>1.25</td>\n",
       "      <td>25</td>\n",
       "    </tr>\n",
       "    <tr>\n",
       "      <th>3</th>\n",
       "      <td>2011-01-04 10:00:00</td>\n",
       "      <td>1003.0</td>\n",
       "      <td>RECYCLING BAG RETROSPOT</td>\n",
       "      <td>United Kingdom</td>\n",
       "      <td>0.42</td>\n",
       "      <td>5</td>\n",
       "    </tr>\n",
       "    <tr>\n",
       "      <th>4</th>\n",
       "      <td>2011-01-04 10:00:00</td>\n",
       "      <td>1004.0</td>\n",
       "      <td>RED RETROSPOT SHOPPER BAG</td>\n",
       "      <td>United Kingdom</td>\n",
       "      <td>0.21</td>\n",
       "      <td>10</td>\n",
       "    </tr>\n",
       "  </tbody>\n",
       "</table>\n",
       "</div>"
      ],
      "text/plain": [
       "           InvoiceDate  Product ID               Product Name         Country  \\\n",
       "0  2011-01-04 10:00:00      1000.0    JUMBO BAG PINK POLKADOT  United Kingdom   \n",
       "1  2011-01-04 10:00:00      1001.0         BLUE POLKADOT WRAP  United Kingdom   \n",
       "2  2011-01-04 10:00:00      1002.0        RED RETROSPOT WRAP   United Kingdom   \n",
       "3  2011-01-04 10:00:00      1003.0   RECYCLING BAG RETROSPOT   United Kingdom   \n",
       "4  2011-01-04 10:00:00      1004.0  RED RETROSPOT SHOPPER BAG  United Kingdom   \n",
       "\n",
       "   Sales Price Quantity  \n",
       "0         1.25       10  \n",
       "1         1.25       25  \n",
       "2         1.25       25  \n",
       "3         0.42        5  \n",
       "4         0.21       10  "
      ]
     },
     "execution_count": 17,
     "metadata": {},
     "output_type": "execute_result"
    }
   ],
   "source": [
    "sales_data.head()"
   ]
  },
  {
   "cell_type": "code",
   "execution_count": 19,
   "metadata": {},
   "outputs": [
    {
     "data": {
      "text/plain": [
       "(416421, 6)"
      ]
     },
     "execution_count": 19,
     "metadata": {},
     "output_type": "execute_result"
    }
   ],
   "source": [
    "#check the number of rows\n",
    "sales_data.shape"
   ]
  },
  {
   "cell_type": "code",
   "execution_count": 21,
   "metadata": {},
   "outputs": [],
   "source": [
    "# Handling missing values from the product Name column\n",
    "sales_data.dropna(subset=['Product Name'],inplace=True)"
   ]
  },
  {
   "cell_type": "code",
   "execution_count": 23,
   "metadata": {},
   "outputs": [
    {
     "data": {
      "text/plain": [
       "(329343, 6)"
      ]
     },
     "execution_count": 23,
     "metadata": {},
     "output_type": "execute_result"
    }
   ],
   "source": [
    "#confirming that rows with empty Product Name gets delete, by checking the rows(shape)\n",
    "sales_data.shape"
   ]
  },
  {
   "cell_type": "code",
   "execution_count": 25,
   "metadata": {},
   "outputs": [
    {
     "data": {
      "text/html": [
       "<div>\n",
       "<style scoped>\n",
       "    .dataframe tbody tr th:only-of-type {\n",
       "        vertical-align: middle;\n",
       "    }\n",
       "\n",
       "    .dataframe tbody tr th {\n",
       "        vertical-align: top;\n",
       "    }\n",
       "\n",
       "    .dataframe thead th {\n",
       "        text-align: right;\n",
       "    }\n",
       "</style>\n",
       "<table border=\"1\" class=\"dataframe\">\n",
       "  <thead>\n",
       "    <tr style=\"text-align: right;\">\n",
       "      <th></th>\n",
       "      <th>InvoiceDate</th>\n",
       "      <th>Product ID</th>\n",
       "      <th>Product Name</th>\n",
       "      <th>Country</th>\n",
       "      <th>Sales Price</th>\n",
       "      <th>Quantity</th>\n",
       "    </tr>\n",
       "  </thead>\n",
       "  <tbody>\n",
       "    <tr>\n",
       "      <th>0</th>\n",
       "      <td>2011-01-04 10:00:00</td>\n",
       "      <td>1000.0</td>\n",
       "      <td>JUMBO BAG PINK POLKADOT</td>\n",
       "      <td>United Kingdom</td>\n",
       "      <td>1.25</td>\n",
       "      <td>10</td>\n",
       "    </tr>\n",
       "    <tr>\n",
       "      <th>1</th>\n",
       "      <td>2011-01-04 10:00:00</td>\n",
       "      <td>1001.0</td>\n",
       "      <td>BLUE POLKADOT WRAP</td>\n",
       "      <td>United Kingdom</td>\n",
       "      <td>1.25</td>\n",
       "      <td>25</td>\n",
       "    </tr>\n",
       "    <tr>\n",
       "      <th>2</th>\n",
       "      <td>2011-01-04 10:00:00</td>\n",
       "      <td>1002.0</td>\n",
       "      <td>RED RETROSPOT WRAP</td>\n",
       "      <td>United Kingdom</td>\n",
       "      <td>1.25</td>\n",
       "      <td>25</td>\n",
       "    </tr>\n",
       "    <tr>\n",
       "      <th>3</th>\n",
       "      <td>2011-01-04 10:00:00</td>\n",
       "      <td>1003.0</td>\n",
       "      <td>RECYCLING BAG RETROSPOT</td>\n",
       "      <td>United Kingdom</td>\n",
       "      <td>0.42</td>\n",
       "      <td>5</td>\n",
       "    </tr>\n",
       "    <tr>\n",
       "      <th>4</th>\n",
       "      <td>2011-01-04 10:00:00</td>\n",
       "      <td>1004.0</td>\n",
       "      <td>RED RETROSPOT SHOPPER BAG</td>\n",
       "      <td>United Kingdom</td>\n",
       "      <td>0.21</td>\n",
       "      <td>10</td>\n",
       "    </tr>\n",
       "  </tbody>\n",
       "</table>\n",
       "</div>"
      ],
      "text/plain": [
       "           InvoiceDate  Product ID               Product Name         Country  \\\n",
       "0  2011-01-04 10:00:00      1000.0    JUMBO BAG PINK POLKADOT  United Kingdom   \n",
       "1  2011-01-04 10:00:00      1001.0         BLUE POLKADOT WRAP  United Kingdom   \n",
       "2  2011-01-04 10:00:00      1002.0        RED RETROSPOT WRAP   United Kingdom   \n",
       "3  2011-01-04 10:00:00      1003.0   RECYCLING BAG RETROSPOT   United Kingdom   \n",
       "4  2011-01-04 10:00:00      1004.0  RED RETROSPOT SHOPPER BAG  United Kingdom   \n",
       "\n",
       "   Sales Price Quantity  \n",
       "0         1.25       10  \n",
       "1         1.25       25  \n",
       "2         1.25       25  \n",
       "3         0.42        5  \n",
       "4         0.21       10  "
      ]
     },
     "execution_count": 25,
     "metadata": {},
     "output_type": "execute_result"
    }
   ],
   "source": [
    "sales_data.head()"
   ]
  },
  {
   "cell_type": "code",
   "execution_count": 27,
   "metadata": {},
   "outputs": [],
   "source": [
    "# Convert 'Quantity' and 'SalesPrice' to numeric, forcing errors to NaN\n",
    "sales_data['Quantity'] = pd.to_numeric(sales_data['Quantity'], errors='coerce')\n",
    "sales_data['Sales Price'] = pd.to_numeric(sales_data['Sales Price'], errors='coerce')"
   ]
  },
  {
   "cell_type": "code",
   "execution_count": 29,
   "metadata": {},
   "outputs": [],
   "source": [
    "#Removing rows with -ve values of Quantity and Sales Price\n",
    "sales_data = sales_data[(sales_data['Quantity'] >= 0) & (sales_data['Sales Price'] >= 0)]"
   ]
  },
  {
   "cell_type": "code",
   "execution_count": 31,
   "metadata": {},
   "outputs": [
    {
     "data": {
      "text/plain": [
       "(296409, 6)"
      ]
     },
     "execution_count": 31,
     "metadata": {},
     "output_type": "execute_result"
    }
   ],
   "source": [
    "#Checking the number of columns again to see how many deleted\n",
    "sales_data.shape"
   ]
  },
  {
   "cell_type": "code",
   "execution_count": 33,
   "metadata": {},
   "outputs": [],
   "source": [
    "sales_data['InvoiceDate'] = pd.to_datetime(sales_data['InvoiceDate'], errors='coerce')\n",
    "sales_data.dropna(subset=['InvoiceDate'], inplace=True)\n",
    "# Removing time from the \"InvoiceDate\" column which was in the orignal excel file\n",
    "sales_data['InvoiceDate'] = sales_data['InvoiceDate'].dt.date"
   ]
  },
  {
   "cell_type": "code",
   "execution_count": 35,
   "metadata": {},
   "outputs": [],
   "source": [
    "#Calculating the sales Amount \n",
    "sales_data['Sales Amount'] = sales_data['Quantity']*sales_data['Sales Price']"
   ]
  },
  {
   "cell_type": "code",
   "execution_count": 37,
   "metadata": {},
   "outputs": [
    {
     "data": {
      "text/html": [
       "<div>\n",
       "<style scoped>\n",
       "    .dataframe tbody tr th:only-of-type {\n",
       "        vertical-align: middle;\n",
       "    }\n",
       "\n",
       "    .dataframe tbody tr th {\n",
       "        vertical-align: top;\n",
       "    }\n",
       "\n",
       "    .dataframe thead th {\n",
       "        text-align: right;\n",
       "    }\n",
       "</style>\n",
       "<table border=\"1\" class=\"dataframe\">\n",
       "  <thead>\n",
       "    <tr style=\"text-align: right;\">\n",
       "      <th></th>\n",
       "      <th>InvoiceDate</th>\n",
       "      <th>Product ID</th>\n",
       "      <th>Product Name</th>\n",
       "      <th>Country</th>\n",
       "      <th>Sales Price</th>\n",
       "      <th>Quantity</th>\n",
       "      <th>Sales Amount</th>\n",
       "    </tr>\n",
       "  </thead>\n",
       "  <tbody>\n",
       "    <tr>\n",
       "      <th>0</th>\n",
       "      <td>2011-01-04</td>\n",
       "      <td>1000.0</td>\n",
       "      <td>JUMBO BAG PINK POLKADOT</td>\n",
       "      <td>United Kingdom</td>\n",
       "      <td>1.25</td>\n",
       "      <td>10.0</td>\n",
       "      <td>12.50</td>\n",
       "    </tr>\n",
       "    <tr>\n",
       "      <th>1</th>\n",
       "      <td>2011-01-04</td>\n",
       "      <td>1001.0</td>\n",
       "      <td>BLUE POLKADOT WRAP</td>\n",
       "      <td>United Kingdom</td>\n",
       "      <td>1.25</td>\n",
       "      <td>25.0</td>\n",
       "      <td>31.25</td>\n",
       "    </tr>\n",
       "    <tr>\n",
       "      <th>2</th>\n",
       "      <td>2011-01-04</td>\n",
       "      <td>1002.0</td>\n",
       "      <td>RED RETROSPOT WRAP</td>\n",
       "      <td>United Kingdom</td>\n",
       "      <td>1.25</td>\n",
       "      <td>25.0</td>\n",
       "      <td>31.25</td>\n",
       "    </tr>\n",
       "    <tr>\n",
       "      <th>3</th>\n",
       "      <td>2011-01-04</td>\n",
       "      <td>1003.0</td>\n",
       "      <td>RECYCLING BAG RETROSPOT</td>\n",
       "      <td>United Kingdom</td>\n",
       "      <td>0.42</td>\n",
       "      <td>5.0</td>\n",
       "      <td>2.10</td>\n",
       "    </tr>\n",
       "    <tr>\n",
       "      <th>4</th>\n",
       "      <td>2011-01-04</td>\n",
       "      <td>1004.0</td>\n",
       "      <td>RED RETROSPOT SHOPPER BAG</td>\n",
       "      <td>United Kingdom</td>\n",
       "      <td>0.21</td>\n",
       "      <td>10.0</td>\n",
       "      <td>2.10</td>\n",
       "    </tr>\n",
       "  </tbody>\n",
       "</table>\n",
       "</div>"
      ],
      "text/plain": [
       "  InvoiceDate  Product ID               Product Name         Country  \\\n",
       "0  2011-01-04      1000.0    JUMBO BAG PINK POLKADOT  United Kingdom   \n",
       "1  2011-01-04      1001.0         BLUE POLKADOT WRAP  United Kingdom   \n",
       "2  2011-01-04      1002.0        RED RETROSPOT WRAP   United Kingdom   \n",
       "3  2011-01-04      1003.0   RECYCLING BAG RETROSPOT   United Kingdom   \n",
       "4  2011-01-04      1004.0  RED RETROSPOT SHOPPER BAG  United Kingdom   \n",
       "\n",
       "   Sales Price  Quantity  Sales Amount  \n",
       "0         1.25      10.0         12.50  \n",
       "1         1.25      25.0         31.25  \n",
       "2         1.25      25.0         31.25  \n",
       "3         0.42       5.0          2.10  \n",
       "4         0.21      10.0          2.10  "
      ]
     },
     "execution_count": 37,
     "metadata": {},
     "output_type": "execute_result"
    }
   ],
   "source": [
    "sales_data.head()"
   ]
  },
  {
   "cell_type": "markdown",
   "metadata": {},
   "source": [
    "Exporting the cleaned and consolidated data"
   ]
  },
  {
   "cell_type": "code",
   "execution_count": 40,
   "metadata": {},
   "outputs": [
    {
     "name": "stdout",
     "output_type": "stream",
     "text": [
      "Data processed and saved successfully to processed_sales_data.xlsx.\n"
     ]
    }
   ],
   "source": [
    "# Saving the cleaned and transformed data to a new Excel file.\n",
    "excel_output_file = 'processed_sales_data.xlsx'\n",
    "sales_data.to_excel(excel_output_file, index=False)\n",
    "print(f\"Data processed and saved successfully to {excel_output_file}.\")"
   ]
  },
  {
   "cell_type": "code",
   "execution_count": null,
   "metadata": {},
   "outputs": [],
   "source": []
  }
 ],
 "metadata": {
  "kernelspec": {
   "display_name": "Python 3 (ipykernel)",
   "language": "python",
   "name": "python3"
  },
  "language_info": {
   "codemirror_mode": {
    "name": "ipython",
    "version": 3
   },
   "file_extension": ".py",
   "mimetype": "text/x-python",
   "name": "python",
   "nbconvert_exporter": "python",
   "pygments_lexer": "ipython3",
   "version": "3.12.4"
  }
 },
 "nbformat": 4,
 "nbformat_minor": 4
}
